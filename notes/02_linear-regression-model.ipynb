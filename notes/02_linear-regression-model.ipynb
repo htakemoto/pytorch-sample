{
 "cells": [
  {
   "cell_type": "markdown",
   "id": "ff9648d9-7f81-41d5-b4fe-96eb01ee178c",
   "metadata": {},
   "source": [
    "# Linear Regresstion Model"
   ]
  },
  {
   "cell_type": "markdown",
   "id": "fbcec9f7-295d-4619-905a-b74276d8954b",
   "metadata": {},
   "source": [
    "Simple Linear Regression model\n",
    "\n",
    "$\n",
    "y = a + bx\n",
    "$\n",
    "\n",
    "we expect the following values to be predicted via training as close as possible: \n",
    "\n",
    "$\n",
    "a = 1\\\\\n",
    "b = 2\n",
    "$"
   ]
  },
  {
   "cell_type": "markdown",
   "id": "48002dfb-0c60-4200-b077-c8bf5e437ffd",
   "metadata": {},
   "source": [
    "## Warm Up"
   ]
  },
  {
   "cell_type": "code",
   "execution_count": 1,
   "id": "72f3392f-f579-4be7-8a85-c170c014e6a5",
   "metadata": {},
   "outputs": [
    {
     "name": "stdout",
     "output_type": "stream",
     "text": [
      "5.0\n"
     ]
    }
   ],
   "source": [
    "import numpy as np\n",
    "\n",
    "# mean = average\n",
    "mean_val = np.array([1, 3, 5, 11]).mean()\n",
    "print(mean_val)"
   ]
  },
  {
   "cell_type": "markdown",
   "id": "97e17234-17c1-4b0f-a929-d1ebe017864b",
   "metadata": {},
   "source": [
    "## Sample Data Generation"
   ]
  },
  {
   "cell_type": "code",
   "execution_count": 2,
   "id": "ec463d2a-6a7e-43d5-8c8d-451bbe099df7",
   "metadata": {},
   "outputs": [
    {
     "data": {
      "image/png": "[encoded data removed]",
      "text/plain": [
       "<Figure size 432x288 with 1 Axes>"
      ]
     },
     "metadata": {
      "needs_background": "light"
     },
     "output_type": "display_data"
    }
   ],
   "source": [
    "import numpy as np\n",
    "import matplotlib.pyplot as plt\n",
    "\n",
    "# generate sample data\n",
    "np.random.seed(42)\n",
    "a_answer = 1\n",
    "b_answer = 2\n",
    "x = np.random.rand(100, 1)\n",
    "y = a_answer + b_answer * x + .1 * np.random.randn(100, 1)\n",
    "\n",
    "# shuffles the indices\n",
    "idx = np.arange(100)\n",
    "np.random.shuffle(idx)\n",
    "\n",
    "# uses first 80 random indices for train\n",
    "train_idx = idx[:80]\n",
    "# uses the remaining indices for validation\n",
    "eval_idx = idx[80:]\n",
    "\n",
    "# generates train and validation sets\n",
    "x_train, y_train = x[train_idx], y[train_idx]\n",
    "x_eval, y_eval = x[eval_idx], y[eval_idx]\n",
    "\n",
    "plt.plot(x_train, y_train, 'x', color='r', label='Training data')\n",
    "plt.plot(x_eval, y_eval, 'o', color='b', label='Validation data')\n",
    "plt.xlabel(r'x value')\n",
    "plt.ylabel(r'y value')\n",
    "plt.legend(loc='best')\n",
    "plt.show()"
   ]
  },
  {
   "cell_type": "markdown",
   "id": "e2f0a622-0d73-483f-a787-d0082f27f53b",
   "metadata": {},
   "source": [
    "## Formula"
   ]
  },
  {
   "cell_type": "markdown",
   "id": "1a845758-0b38-44b2-84fc-06413c39edb1",
   "metadata": {},
   "source": [
    "**Mean Square Error (MSE)** means **loss**\n",
    "\n",
    "$$\n",
    "MSE = \\frac{1}{N} \\sum_{i=1}^{N}(y_i - (a + bx_i))^2\n",
    "$$\n",
    "\n",
    "Gradients Calculation\n",
    "\n",
    "$$\n",
    "a\\_grad = -2 \\times \\sum_{i=1}^{N}\\big(y_i - (a + bx_i)\\big)\\\\\n",
    "b\\_grad = -2 \\times \\sum_{i=1}^{N}\\big(y_i - (a + bx_i)) \\times (x_i) \\big)\n",
    "$$"
   ]
  },
  {
   "cell_type": "markdown",
   "id": "de7d85e1-bf75-41dd-810d-4928fd71b92e",
   "metadata": {},
   "source": [
    "## Numpy Approach"
   ]
  },
  {
   "cell_type": "code",
   "execution_count": 3,
   "id": "728e79ea-7f0e-4868-ac85-71ab759d8a30",
   "metadata": {},
   "outputs": [
    {
     "name": "stdout",
     "output_type": "stream",
     "text": [
      "[1.02354094] [1.96896411]\n"
     ]
    }
   ],
   "source": [
    "# Sets learning rate\n",
    "lr = 1e-1\n",
    "# Defines number of epochs\n",
    "n_epochs = 1000\n",
    "\n",
    "# Initializes parameters \"a\" and \"b\" randomly\n",
    "np.random.seed(42)\n",
    "a = np.random.randn(1)\n",
    "b = np.random.randn(1)\n",
    "\n",
    "for epoch in range(n_epochs):\n",
    "    # Computes our model's predicted output\n",
    "    yhat = a + b * x_train\n",
    "    \n",
    "    # How wrong is our model? That's the error! \n",
    "    error = (y_train - yhat)\n",
    "    # It is a regression, so it computes mean squared error (MSE)\n",
    "    loss = (error ** 2).mean()\n",
    "    \n",
    "    # Computes gradients for both \"a\" and \"b\" parameters\n",
    "    a_grad = -2 * error.mean()\n",
    "    b_grad = -2 * (x_train * error).mean()\n",
    "    \n",
    "    # Updates parameters using gradients and the learning rate\n",
    "    a = a - lr * a_grad\n",
    "    b = b - lr * b_grad\n",
    "    \n",
    "print(a, b)"
   ]
  },
  {
   "cell_type": "markdown",
   "id": "6bd9eafb-b38e-4b8f-b22a-2ec54d607be0",
   "metadata": {},
   "source": [
    "## Scikit-learn Approach"
   ]
  },
  {
   "cell_type": "code",
   "execution_count": 4,
   "id": "cdaa3c88-b9b2-4b8b-8faa-cbbee1bd7148",
   "metadata": {},
   "outputs": [
    {
     "name": "stdout",
     "output_type": "stream",
     "text": [
      "[1.02354075] [1.96896447]\n"
     ]
    }
   ],
   "source": [
    "# Sanity Check: do we get the same results as our gradient descent?\n",
    "from sklearn.linear_model import LinearRegression\n",
    "\n",
    "linr = LinearRegression()\n",
    "linr.fit(x_train, y_train)\n",
    "print(linr.intercept_, linr.coef_[0])"
   ]
  },
  {
   "cell_type": "markdown",
   "id": "7fec0b2d-b5f2-4282-9afb-700ab5e2043d",
   "metadata": {},
   "source": [
    "## PyTorch Approach"
   ]
  },
  {
   "cell_type": "code",
   "execution_count": 5,
   "id": "6e120a51-e8e0-4171-819b-3e4f10aea734",
   "metadata": {},
   "outputs": [
    {
     "name": "stdout",
     "output_type": "stream",
     "text": [
      "cpu\n",
      "<class 'numpy.ndarray'> <class 'torch.Tensor'> torch.FloatTensor\n"
     ]
    }
   ],
   "source": [
    "import torch\n",
    "\n",
    "device = 'cuda' if torch.cuda.is_available() else 'cpu'\n",
    "print(device)\n",
    "\n",
    "# Our data was in Numpy arrays, but we need to transform them into PyTorch's Tensors\n",
    "x_train_tensor = torch.from_numpy(x_train).float().to(device)\n",
    "y_train_tensor = torch.from_numpy(y_train).float().to(device)\n",
    "\n",
    "# Here we can see the difference - notice that .type() is more useful\n",
    "# since it also tells us WHERE the tensor is (device)\n",
    "print(type(x_train), type(x_train_tensor), x_train_tensor.type())"
   ]
  },
  {
   "cell_type": "markdown",
   "id": "606631f7-f10b-4a50-a6fc-ba1ec43e735a",
   "metadata": {},
   "source": [
    "### Manual Parameters Update"
   ]
  },
  {
   "cell_type": "code",
   "execution_count": 6,
   "id": "ae0e8467-516b-49ee-8c14-e91bd1fae657",
   "metadata": {},
   "outputs": [
    {
     "name": "stdout",
     "output_type": "stream",
     "text": [
      "tensor([0.3367], requires_grad=True) tensor([0.1288], requires_grad=True)\n",
      "tensor([1.0235], requires_grad=True) tensor([1.9690], requires_grad=True)\n"
     ]
    }
   ],
   "source": [
    "# Sets learning rate\n",
    "lr = 1e-1\n",
    "# Defines number of epochs\n",
    "n_epochs = 1000\n",
    "\n",
    "# Initializes parameters \"a\" and \"b\" randomly\n",
    "torch.manual_seed(42)\n",
    "a = torch.randn(1, requires_grad=True, dtype=torch.float, device=device)\n",
    "b = torch.randn(1, requires_grad=True, dtype=torch.float, device=device)\n",
    "print(a, b)\n",
    "\n",
    "for epoch in range(n_epochs):\n",
    "    yhat = a + b * x_train_tensor\n",
    "    error = y_train_tensor - yhat\n",
    "    loss = (error ** 2).mean()\n",
    "\n",
    "    # No more manual computation of gradients using PyTorch! \n",
    "    # a_grad = -2 * error.mean()\n",
    "    # b_grad = -2 * (x_tensor * error).mean()\n",
    "    \n",
    "    # We just tell PyTorch to work its way BACKWARDS from the specified loss!\n",
    "    loss.backward()\n",
    "    # Let's check the computed gradients...\n",
    "    # print(a.grad)\n",
    "    # print(b.grad)\n",
    "    \n",
    "    # What about UPDATING the parameters?\n",
    "    # We need to use NO_GRAD to keep the update out of the gradient computation\n",
    "    # Why is that? It boils down to the DYNAMIC GRAPH that PyTorch uses...\n",
    "    with torch.no_grad():\n",
    "        a -= lr * a.grad\n",
    "        b -= lr * b.grad\n",
    "    \n",
    "    # PyTorch is \"clingy\" to its computed gradients, we need to tell it to let it go...\n",
    "    # In PyTorch, every method that ends with an underscore (_) makes changes in-place,\n",
    "    # meaning, they will modify the underlying variable.\n",
    "    a.grad.zero_()\n",
    "    b.grad.zero_()\n",
    "    \n",
    "print(a, b)"
   ]
  },
  {
   "cell_type": "markdown",
   "id": "712a1530-63d4-425b-b65d-a3b50dbcd782",
   "metadata": {},
   "source": [
    "### Using PyTorch Optimizer"
   ]
  },
  {
   "cell_type": "code",
   "execution_count": 7,
   "id": "f32e66c5-7c7c-4419-b5f7-24f6111d882a",
   "metadata": {},
   "outputs": [
    {
     "name": "stdout",
     "output_type": "stream",
     "text": [
      "tensor([0.3367], requires_grad=True) tensor([0.1288], requires_grad=True)\n",
      "tensor([1.0235], requires_grad=True) tensor([1.9690], requires_grad=True)\n"
     ]
    }
   ],
   "source": [
    "torch.manual_seed(42)\n",
    "a = torch.randn(1, requires_grad=True, dtype=torch.float, device=device)\n",
    "b = torch.randn(1, requires_grad=True, dtype=torch.float, device=device)\n",
    "print(a, b)\n",
    "\n",
    "lr = 1e-1\n",
    "n_epochs = 1000\n",
    "\n",
    "# Defines a SGD optimizer to update the parameters\n",
    "optimizer = torch.optim.SGD([a, b], lr=lr)\n",
    "\n",
    "for epoch in range(n_epochs):\n",
    "    yhat = a + b * x_train_tensor\n",
    "    error = y_train_tensor - yhat\n",
    "    loss = (error ** 2).mean()\n",
    "\n",
    "    loss.backward()    \n",
    "    \n",
    "    # No more manual update!\n",
    "    # with torch.no_grad():\n",
    "    #     a -= lr * a.grad\n",
    "    #     b -= lr * b.grad\n",
    "    optimizer.step()\n",
    "    \n",
    "    # No more telling PyTorch to let gradients go!\n",
    "    # a.grad.zero_()\n",
    "    # b.grad.zero_()\n",
    "    optimizer.zero_grad()\n",
    "    \n",
    "print(a, b)"
   ]
  },
  {
   "cell_type": "markdown",
   "id": "f6e56681-744b-4a2c-b8f6-87c653bcc1cb",
   "metadata": {},
   "source": [
    "### Using PyTorch Loss"
   ]
  },
  {
   "cell_type": "code",
   "execution_count": 8,
   "id": "e234e472-7846-48c2-b230-21fb7fe0a703",
   "metadata": {},
   "outputs": [
    {
     "name": "stdout",
     "output_type": "stream",
     "text": [
      "tensor([0.3367], requires_grad=True) tensor([0.1288], requires_grad=True)\n",
      "tensor([1.0235], requires_grad=True) tensor([1.9690], requires_grad=True)\n"
     ]
    }
   ],
   "source": [
    "torch.manual_seed(42)\n",
    "a = torch.randn(1, requires_grad=True, dtype=torch.float, device=device)\n",
    "b = torch.randn(1, requires_grad=True, dtype=torch.float, device=device)\n",
    "print(a, b)\n",
    "\n",
    "lr = 1e-1\n",
    "n_epochs = 1000\n",
    "\n",
    "# Defines a MSE loss function\n",
    "loss_fn = torch.nn.MSELoss(reduction='mean')\n",
    "\n",
    "optimizer = torch.optim.SGD([a, b], lr=lr)\n",
    "\n",
    "for epoch in range(n_epochs):\n",
    "    yhat = a + b * x_train_tensor\n",
    "    \n",
    "    # No more manual loss!\n",
    "    # error = y_tensor - yhat\n",
    "    # loss = (error ** 2).mean()\n",
    "    loss = loss_fn(y_train_tensor, yhat)\n",
    "\n",
    "    # Computes gradients\n",
    "    loss.backward()\n",
    "    # Updates parameters and zeroes gradients\n",
    "    optimizer.step()\n",
    "    optimizer.zero_grad()\n",
    "    \n",
    "print(a, b)"
   ]
  },
  {
   "cell_type": "markdown",
   "id": "0abee09a-bc60-4a96-83d0-fa0dcef2b450",
   "metadata": {},
   "source": [
    "### Using Model Approach\n",
    "\n",
    "Using Model, we can organize code more in modular way"
   ]
  },
  {
   "cell_type": "code",
   "execution_count": 9,
   "id": "c5108528-7f0d-4ce5-86e7-07b9c6ceae25",
   "metadata": {},
   "outputs": [
    {
     "name": "stdout",
     "output_type": "stream",
     "text": [
      "OrderedDict([('a', tensor([0.3367])), ('b', tensor([0.1288]))])\n",
      "OrderedDict([('a', tensor([1.0235])), ('b', tensor([1.9690]))])\n"
     ]
    }
   ],
   "source": [
    "class ManualLinearRegression(torch.nn.Module):\n",
    "    def __init__(self):\n",
    "        super().__init__()\n",
    "        # To make \"a\" and \"b\" real parameters of the model, we need to wrap them with nn.Parameter\n",
    "        self.a = torch.nn.Parameter(torch.randn(1, requires_grad=True, dtype=torch.float))\n",
    "        self.b = torch.nn.Parameter(torch.randn(1, requires_grad=True, dtype=torch.float))\n",
    "    \n",
    "    def forward(self, x):\n",
    "        # Computes the outputs / predictions\n",
    "        return self.a + self.b * x\n",
    "\n",
    "torch.manual_seed(42)\n",
    "\n",
    "# Now we can create a model and send it at once to the device\n",
    "model = ManualLinearRegression().to(device)\n",
    "# We can also inspect its parameters using its state_dict\n",
    "print(model.state_dict())\n",
    "\n",
    "lr = 1e-1\n",
    "n_epochs = 1000\n",
    "\n",
    "loss_fn = torch.nn.MSELoss(reduction='mean')\n",
    "optimizer = torch.optim.SGD(model.parameters(), lr=lr)\n",
    "\n",
    "for epoch in range(n_epochs):\n",
    "    # train() does NOT perform a training step.\n",
    "    # Its only purpose is to set the model to training mode.\n",
    "    # Some models use mechanisms like Dropout which have distinct behaviors in training and evaluation phases.\n",
    "    model.train()\n",
    "\n",
    "    # No more manual prediction!\n",
    "    # yhat = a + b * x_tensor\n",
    "    yhat = model(x_train_tensor)\n",
    "\n",
    "    # Computes loss\n",
    "    loss = loss_fn(y_train_tensor, yhat)\n",
    "    # Computes gradients\n",
    "    loss.backward()\n",
    "    # Updates parameters and zeroes gradients\n",
    "    optimizer.step()\n",
    "    optimizer.zero_grad()\n",
    "\n",
    "print(model.state_dict())"
   ]
  },
  {
   "cell_type": "markdown",
   "id": "8cecdbe6-9853-4ab9-aa3c-93ed8d6aabf9",
   "metadata": {},
   "source": [
    "### Using PyTorch Build-in Model"
   ]
  },
  {
   "cell_type": "code",
   "execution_count": 10,
   "id": "c4284ee7-624b-46c1-a6e6-2c8be1f9948b",
   "metadata": {},
   "outputs": [
    {
     "name": "stdout",
     "output_type": "stream",
     "text": [
      "OrderedDict([('0.weight', tensor([[0.7645]])), ('0.bias', tensor([0.8300]))])\n",
      "OrderedDict([('0.weight', tensor([[1.9690]])), ('0.bias', tensor([1.0235]))])\n"
     ]
    }
   ],
   "source": [
    "torch.manual_seed(42)\n",
    "\n",
    "# Now we can create a model and send it at once to the device\n",
    "model = torch.nn.Sequential(torch.nn.Linear(1,1)).to(device)\n",
    "# We can also inspect its parameters using its state_dict\n",
    "print(model.state_dict())\n",
    "\n",
    "lr = 1e-1\n",
    "n_epochs = 1000\n",
    "\n",
    "loss_fn = torch.nn.MSELoss(reduction='mean')\n",
    "optimizer = torch.optim.SGD(model.parameters(), lr=lr)\n",
    "\n",
    "for epoch in range(n_epochs):\n",
    "    # train() does NOT perform a training step.\n",
    "    # Its only purpose is to set the model to training mode.\n",
    "    # Some models use mechanisms like Dropout which have distinct behaviors in training and evaluation phases.\n",
    "    model.train()\n",
    "\n",
    "    # No more manual prediction!\n",
    "    # yhat = a + b * x_tensor\n",
    "    yhat = model(x_train_tensor)\n",
    "\n",
    "    # Computes loss\n",
    "    loss = loss_fn(y_train_tensor, yhat)\n",
    "    # Computes gradients\n",
    "    loss.backward()\n",
    "    # Updates parameters and zeroes gradients\n",
    "    optimizer.step()\n",
    "    optimizer.zero_grad()\n",
    "\n",
    "print(model.state_dict())"
   ]
  },
  {
   "cell_type": "markdown",
   "id": "a73774a1-7f99-4a59-8a24-ee10cc2e110f",
   "metadata": {},
   "source": [
    "### Using and PyTorch TensorDataset Dataloader\n",
    "\n",
    "Until now, we have used the whole training data at every training step. It has been batch gradient descent all along. This is fine for our ridiculously small dataset, but if we want to go serious about all this, we must use mini-batch gradient descent. Thus, we need mini-batches."
   ]
  },
  {
   "cell_type": "code",
   "execution_count": 11,
   "id": "30ddb77f-19fd-4348-8d1a-5aeb152cdb1e",
   "metadata": {},
   "outputs": [
    {
     "name": "stdout",
     "output_type": "stream",
     "text": [
      "(tensor([0.7713]), tensor([2.4745]))\n",
      "OrderedDict([('0.weight', tensor([[-0.2343]])), ('0.bias', tensor([0.9186]))])\n",
      "OrderedDict([('0.weight', tensor([[1.9690]])), ('0.bias', tensor([1.0235]))])\n"
     ]
    }
   ],
   "source": [
    "from torch.utils.data import TensorDataset, DataLoader\n",
    "\n",
    "# Data Setup\n",
    "x_train_tensor = torch.from_numpy(x_train).float()\n",
    "y_train_tensor = torch.from_numpy(y_train).float()\n",
    "train_data = TensorDataset(x_train_tensor, y_train_tensor)\n",
    "print(train_data[0])\n",
    "# mini-bach config\n",
    "train_loader = DataLoader(dataset=train_data, batch_size=16, shuffle=True)\n",
    "\n",
    "model = torch.nn.Sequential(torch.nn.Linear(1,1)).to(device)\n",
    "# We can also inspect its parameters using its state_dict\n",
    "print(model.state_dict())\n",
    "\n",
    "lr = 1e-1\n",
    "n_epochs = 1000\n",
    "\n",
    "losses = []\n",
    "loss_fn = torch.nn.MSELoss(reduction='mean')\n",
    "optimizer = torch.optim.SGD(model.parameters(), lr=lr)\n",
    "\n",
    "for epoch in range(n_epochs):\n",
    "    for x_batch, y_batch in train_loader:\n",
    "        # the dataset \"lives\" in the CPU, so do our mini-batches\n",
    "        # therefore, we need to send those mini-batches to the\n",
    "        # device where the model \"lives\"\n",
    "        x_batch = x_batch.to(device)\n",
    "        y_batch = y_batch.to(device)\n",
    "\n",
    "        # train() does NOT perform a training step.\n",
    "        # Its only purpose is to set the model to training mode.\n",
    "        # Some models use mechanisms like Dropout which have distinct behaviors in training and evaluation phases.\n",
    "        model.train()\n",
    "\n",
    "        # No more manual prediction!\n",
    "        # yhat = a + b * x_tensor\n",
    "        yhat = model(x_train_tensor)\n",
    "\n",
    "        # Computes loss\n",
    "        loss = loss_fn(y_train_tensor, yhat)\n",
    "        # Computes gradients\n",
    "        loss.backward()\n",
    "        # Updates parameters and zeroes gradients\n",
    "        optimizer.step()\n",
    "        optimizer.zero_grad()\n",
    "        # record loss\n",
    "        losses.append(loss)\n",
    "\n",
    "print(model.state_dict())"
   ]
  },
  {
   "cell_type": "markdown",
   "id": "2b976dc7-0fe3-4a3e-b348-bd0c0d19b572",
   "metadata": {},
   "source": [
    "### Evaluation"
   ]
  },
  {
   "cell_type": "code",
   "execution_count": 12,
   "id": "6d585d99-7fa6-4a03-b0b0-74ec1e10d08b",
   "metadata": {},
   "outputs": [
    {
     "name": "stdout",
     "output_type": "stream",
     "text": [
      "(tensor([0.7713]), tensor([2.4745]))\n",
      "OrderedDict([('0.weight', tensor([[0.7827]])), ('0.bias', tensor([0.4601]))])\n",
      "OrderedDict([('0.weight', tensor([[1.9690]])), ('0.bias', tensor([1.0235]))])\n"
     ]
    }
   ],
   "source": [
    "# Data Setup\n",
    "x_train_tensor = torch.from_numpy(x_train).float()\n",
    "y_train_tensor = torch.from_numpy(y_train).float()\n",
    "train_data = TensorDataset(x_train_tensor, y_train_tensor)\n",
    "x_val_tensor = torch.from_numpy(x_eval).float()\n",
    "y_val_tensor = torch.from_numpy(y_eval).float()\n",
    "val_data = TensorDataset(x_val_tensor, y_val_tensor)\n",
    "print(train_data[0])\n",
    "# mini-bach config\n",
    "train_loader = DataLoader(dataset=train_data, batch_size=16, shuffle=True)\n",
    "val_loader = DataLoader(dataset=val_data, batch_size=16, shuffle=True)\n",
    "\n",
    "model = torch.nn.Sequential(torch.nn.Linear(1,1)).to(device)\n",
    "# We can also inspect its parameters using its state_dict\n",
    "print(model.state_dict())\n",
    "\n",
    "lr = 1e-1\n",
    "n_epochs = 1000\n",
    "\n",
    "losses = []\n",
    "val_losses = []\n",
    "loss_fn = torch.nn.MSELoss(reduction='mean')\n",
    "optimizer = torch.optim.SGD(model.parameters(), lr=lr)\n",
    "\n",
    "for epoch in range(n_epochs):\n",
    "    for x_batch, y_batch in train_loader:\n",
    "        # the dataset \"lives\" in the CPU, so do our mini-batches\n",
    "        # therefore, we need to send those mini-batches to the\n",
    "        # device where the model \"lives\"\n",
    "        x_batch = x_batch.to(device)\n",
    "        y_batch = y_batch.to(device)\n",
    "\n",
    "        # train() does NOT perform a training step.\n",
    "        # Its only purpose is to set the model to training mode.\n",
    "        # Some models use mechanisms like Dropout which have distinct behaviors in training and evaluation phases.\n",
    "        model.train()\n",
    "\n",
    "        # No more manual prediction!\n",
    "        # yhat = a + b * x_tensor\n",
    "        yhat = model(x_train_tensor)\n",
    "\n",
    "        # Computes loss\n",
    "        loss = loss_fn(y_train_tensor, yhat)\n",
    "        # Computes gradients\n",
    "        loss.backward()\n",
    "        # Updates parameters and zeroes gradients\n",
    "        optimizer.step()\n",
    "        optimizer.zero_grad()\n",
    "        # record loss\n",
    "        losses.append(loss)\n",
    "        \n",
    "    # evaluation section\n",
    "    with torch.no_grad():\n",
    "        for x_val, y_val in val_loader:\n",
    "            x_val = x_val.to(device)\n",
    "            y_val = y_val.to(device)\n",
    "            \n",
    "            model.eval()\n",
    "\n",
    "            yhat = model(x_val)\n",
    "            val_loss = loss_fn(y_val, yhat)\n",
    "            val_losses.append(val_loss.item())\n",
    "    \n",
    "print(model.state_dict())"
   ]
  }
 ],
 "metadata": {
  "kernelspec": {
   "display_name": "Python 3",
   "language": "python",
   "name": "python3"
  },
  "language_info": {
   "codemirror_mode": {
    "name": "ipython",
    "version": 3
   },
   "file_extension": ".py",
   "mimetype": "text/x-python",
   "name": "python",
   "nbconvert_exporter": "python",
   "pygments_lexer": "ipython3",
   "version": "3.6.11"
  }
 },
 "nbformat": 4,
 "nbformat_minor": 5
}
